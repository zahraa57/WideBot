{
 "cells": [
  {
   "cell_type": "code",
   "execution_count": 1,
   "id": "f3c2fe48",
   "metadata": {},
   "outputs": [],
   "source": [
    "import numpy as np\n",
    "import pandas as pd\n",
    "from collections import Counter\n",
    "import nltk\n",
    "import regex\n",
    "import re\n",
    "from spellchecker import SpellChecker\n",
    "import editdistance\n"
   ]
  },
  {
   "cell_type": "code",
   "execution_count": 2,
   "id": "e22aede0",
   "metadata": {},
   "outputs": [],
   "source": [
    "class SpellCheck:\n",
    "    def __init__(self, dictionary_file):\n",
    "        self.spell = SpellChecker(language=None, case_sensitive=False)\n",
    "        self.spell.word_frequency.load_text_file(dictionary_file,encoding=\"ISO-8859-1\")\n",
    "\n",
    "    def nearest_words(self, word):\n",
    "        if word not in spell_check.spell.known([word]):\n",
    "            near=list(self.spell.known(self.spell.edit_distance_1(word)))\n",
    "            return near[:4]\n",
    "        else: \n",
    "            x=\"word is already in\"\n",
    "            return x\n",
    "    def add_word(self, word):\n",
    "        self.spell.word_frequency.add(word)\n"
   ]
  },
  {
   "cell_type": "code",
   "execution_count": 3,
   "id": "b0642ccb",
   "metadata": {},
   "outputs": [
    {
     "name": "stdout",
     "output_type": "stream",
     "text": [
      "nearest words: ['yah', 'bah', 'ah', 'rah']\n",
      "nearest words: word is already in\n",
      "new word added to dictionary\n"
     ]
    }
   ],
   "source": [
    "spell_check = SpellCheck(\"dictionary.txt\")\n",
    "\n",
    "word = \"zah\"\n",
    "\n",
    "nearest_words = spell_check.nearest_words(word)\n",
    "print(\"nearest words: \"+str(nearest_words))\n",
    "\n",
    "word = \"world\"\n",
    "nearest_words = spell_check.nearest_words(word)\n",
    "print(\"nearest words: \"+str(nearest_words))\n",
    "\n",
    "new_word = \"worldss\"\n",
    "spell_check.add_word(new_word)\n",
    "print(\"new word added to dictionary\")"
   ]
  },
  {
   "cell_type": "code",
   "execution_count": 4,
   "id": "542bd6d4",
   "metadata": {},
   "outputs": [],
   "source": [
    "class SpellingChecker:\n",
    "    def __init__(self):\n",
    "        self.vocab = []\n",
    "\n",
    "    def Store_dictionary(self, path):\n",
    "        with open(path, 'r', encoding='ISO-8859-1') as f:\n",
    "            lines = f.readlines() \n",
    "        words = []\n",
    "        for line in lines:\n",
    "            line = line.strip().lower()\n",
    "            word = re.findall(r'\\w+', line)\n",
    "            words.extend(word)\n",
    "        self.vocab = sorted(set(words))\n",
    "        return self.vocab\n",
    "\n",
    "    def nearst4(self, word):\n",
    "        char_set = \"abcdefghijklmnopqrstuvwxyz\"\n",
    "        if word not in self.vocab:\n",
    "                splits = [(word[:i], word[i:]) for i in range(len(word) + 1)]\n",
    "                inserts = [a[1:] + c + b for a, b in map(lambda e: (\"@\" + e[0], e[1]), splits) for c in char_set]\n",
    "                deletes = [a[1:] + b[1:] for a, b in map(lambda e: ('@' + e[0], e[1]), splits) if b]\n",
    "                substitutions = [a + c + b[1:] for a, b in splits for c in char_set if b]\n",
    "                switches = [a + b[1] + b[0] + b[2:] for a, b in splits if len(b) > 1]\n",
    "                x = list(deletes + switches + substitutions + inserts)\n",
    "\n",
    "                result = sorted(list(set(x)))  # remove duplicates and convert to list\n",
    "                result = [str(s) for s in result]  # convert tuples to strings\n",
    "                edits_list = [w for w in result if w in self.vocab]\n",
    "                \n",
    "                edits_list.append(word)  # add input word to edits\n",
    "                edits_list = sorted(set(edits_list))\n",
    "                index = edits_list.index(word)\n",
    "                \n",
    "                if index==0 and len(edits_list)>1:\n",
    "                        candidates= edits_list[index+1: min(index+5,len(edits_list))]\n",
    "                        return candidates\n",
    "                elif index==1   and len(edits_list)>1:\n",
    "                        candidates=[edits_list[0]]+ edits_list[index+1: min(index+4,len(edits_list))]\n",
    "                        return candidates\n",
    "\n",
    "                elif index== len(edits_list)-1:\n",
    "                        candidates=edits_list[-5:]\n",
    "                        return candidates\n",
    "                elif index == len(edits_list)-2:\n",
    "                        candidates= edits_list[max(-5,-len(edits_list)):index] + [edits_list[ len(edits_list)-1]]\n",
    "                        return candidates\n",
    "\n",
    "                else:\n",
    "                        prev_elements = edits_list[max(index-2, 0):index]\n",
    "                        next_elements = edits_list[index+1:min(index+3, len(edits_list))]\n",
    "                        return prev_elements[-2:] + next_elements[:2]\n",
    "          \n",
    "        else:\n",
    "            message=\"the word is already in the vocab\"\n",
    "            return message\n",
    "    \n",
    "    def add_word(self, word):\n",
    "        self.vocab.append(word)\n",
    "        self.vocab = sorted(set(self.vocab))"
   ]
  },
  {
   "cell_type": "code",
   "execution_count": 5,
   "id": "d7d74f92",
   "metadata": {
    "scrolled": true
   },
   "outputs": [
    {
     "name": "stdout",
     "output_type": "stream",
     "text": [
      "nearest words: ['bah', 'rah', 'yah', 'zap']\n",
      "nearest words: the word is already in the vocab\n",
      "new word added to dictionary\n"
     ]
    }
   ],
   "source": [
    "spell_check = SpellingChecker()\n",
    "vocab = spell_check.Store_dictionary(\"dictionary.txt\")\n",
    "\n",
    "word = \"zah\"\n",
    "\n",
    "nearest_words = spell_check.nearst4(word)\n",
    "print(\"nearest words: \"+str(nearest_words))\n",
    "\n",
    "word = \"world\"\n",
    "nearest_words = spell_check.nearst4(word)\n",
    "print(\"nearest words: \"+str(nearest_words))\n",
    "\n",
    "new_word = \"worldss\"\n",
    "spell_check.add_word(new_word)\n",
    "print(\"new word added to dictionary\")"
   ]
  },
  {
   "cell_type": "code",
   "execution_count": null,
   "id": "44afb8b0",
   "metadata": {},
   "outputs": [],
   "source": []
  }
 ],
 "metadata": {
  "kernelspec": {
   "display_name": "Python 3 (ipykernel)",
   "language": "python",
   "name": "python3"
  },
  "language_info": {
   "codemirror_mode": {
    "name": "ipython",
    "version": 3
   },
   "file_extension": ".py",
   "mimetype": "text/x-python",
   "name": "python",
   "nbconvert_exporter": "python",
   "pygments_lexer": "ipython3",
   "version": "3.11.0"
  }
 },
 "nbformat": 4,
 "nbformat_minor": 5
}
